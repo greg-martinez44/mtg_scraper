# %% codecell
import numpy as np
import os
import pandas as pd
import re
import requests
import sqlite3

from bs4 import BeautifulSoup


# %% markdown
# # Get Event Links
#
# * Establish connection to sqlite database file
# * Get event links from db file
# * Store in a dataframe


# %% codecell
os.getcwd()


# %% codecell
db = "dbs/links.db"
conn = sqlite3.connect(db)
event_df = pd.read_sql("SELECT * FROM event", conn)
conn.close()


# %% codecell
# Cleaning
event_df["date"] = pd.to_datetime(event_df["date"], format="%d/%m/%y")


# %% codecell
events = list(event_df["link"])
events


# %%codecell
event_df.columns.tolist()


# ### Event with Two Players


# %% codecell
html = requests.get(events[0])
soup = BeautifulSoup(html.text)
body = soup.body


# %% codecell
deck1 = body.find_all("div", class_="W14")
deck1_rank = deck1[0].text
deck1_name = deck1[1].find("a").text

print(deck1_rank, ", ", deck1_name)

deck2 = body.find_all("div", class_="S14")
deck2_rank = deck2[0].text
deck2_name = deck2[1].find("a").text

print(deck2_rank, ", ", deck2_name)
print(len(deck2))


# %% codecell
players = body.find_all("div", class_="G11")
player1 = players[0].find("a").text
player2 = players[1].find("a").text

print(player1, player2, sep="\n")


# %% markdown
# ### Event with One Player


# %% codecell
html = requests.get(events[1])
soup = BeautifulSoup(html.text)
body = soup.body


# %% codecell
deck = body.find_all("div", class_="W14")
deck_rank = deck[0].text
deck_name = deck[1].find("a").text
print(deck_rank, ", ", deck_name)

nothing = body.find_all("div", class_="S14")
print(len(nothing))


# %% codecell
player = body.find_all("div", class_="G11")
print(len(player))
player1 = player[0].find("a").text
player1


# %% markdown
# ### Event with Multiple Players


# %% codecell
html = requests.get(events[5])
soup = BeautifulSoup(html.text)
body = soup.body


# %% codecell
html.url


# %% codecell
deck1 = body.find_all("div", class_="W14")
deck1_rank = deck1[0].text
deck1_name = deck1[1].find("a").text
print(deck1_rank, ", ", deck1_name)

other_decks = body.find_all("div", class_="S14")
ranks = []
deck_names = []
for idx, result in enumerate(other_decks[:-3]):
    if idx % 2 == 0:
        ranks.append(result.text)
    else:
        deck_names.append(result.find("a").text)
print(ranks)
print(deck_names)


# %% codecell
players = body.find_all("div", class_="G11")

for player in players:
    print(player.find("a").text)


# %% markdown
# ### Looping through all events for deck name & players
#
# * Winner is W14
# * Others are S14; if rank is reported in points, then it uses S12


# %% codecell
def get_deck_table():
    results = []
    for link, event in zip(event_df["link"], event_df["name"]):
        html = requests.get(link)
        soup = BeautifulSoup(html.text)
        body = soup.body
        has_points = False

        try:
            winner_rank = body.find_all("div", class_="W12")[1].text
            winner_name = body.find_all("div", class_="W14")[0].find("a").text
            has_points = True
        except:
            winner = body.find_all("div", class_="W14")
            winner_rank = winner[0].text
            winner_name = winner[1].find("a").text

        names = [winner_name]
        ranks = [winner_rank]

        if has_points:
            for name in body.find_all("div", class_="S14")[:-3]:
                assert not is_malformed(name.text), "Bad name - " + name.text + " at " + html.url
                names.append(name.text.strip())
            for points in body.find_all("div", class_="S12"):
                if should_be_skipped(points.text):
                    continue
                assert is_points(points.text), "Malformed Points " + points.text + " at " + html.url
                ranks.append(points.text.strip())
        else:
            for idx, result in enumerate(body.find_all("div", class_="S14")[:-3]):
                if idx % 2 == 0:
                    if not is_rank(result.text):
                        break
                    ranks.append(result.text.strip())
                else:
                    assert not is_malformed(result.text), "Bad name - " + result.text + " at " + html.url
                    names.append(result.text.strip())

        players = []
        for player in body.find_all("div", class_="G11")[:len(names)]:
            players.append(player.find("a").text)

        assert are_equal_length(names, ranks, players), \
            "names: " + str(len(names)) \
            + ", ranks: " + str(len(ranks)) \
            + ", players: " + str(len(players)) \
            + " at " + html.url
        assert are_equal_length(list(zip(names,ranks,players)), names, ranks, players)

        results.extend(
            [
                (event, player, name, rank)
                for (player, name, rank)
                in zip(players, names, ranks)
            ]
        )

    return results

def is_malformed(name):
    return re.match("^\$[0-9]*\ \(.*\)$", name) or re.match("^[0-9]*\ TIX$", name)

def should_be_skipped(rank):
    return rank == "close" or rank == "Companion card"

def is_points(rank):
    return re.match("^[0-9]*\ pts$", rank)

def is_rank(rank):
    return re.match("^[0-9]*-[0-9]*$", rank) or re.match("^[0-9]*$", rank)

def are_equal_length(*args):
    equal = True
    length1 = len(args[0])
    for arg in args:
        if len(arg) != length1:
            equal = False
    return equal


# %% codecell
deck_table = get_deck_table()


# %%codecell
deck_table


# %%codecell
event_df["link"][-10:]


# %%codecell
r = requests.get('https://www.mtgtop8.com/event?e=27894&f=ST')
h = r.text
soup1 = BeautifulSoup(h)
b = soup1.body

first_deck_rank = b.find_all("div", class_="W12")[1].text
first_deck_name = b.find_all("div", class_="W14")[0].find("a").text

names = [first_deck_name]
ranks = [first_deck_rank]

for deck_name in b.find_all("div", class_="S14")[:]:
    names.append(deck_name.text)

for deck_rank in b.find_all("div", class_="S12"):
    if deck_rank.text == "close" or deck_rank.text == "Companion card":
        continue
    ranks.append(deck_rank.text)

print(names, ranks, sep="\n\n")


# %%codecell
result = []
prfor deck in decks:
    if deck[0] == 'https://www.mtgtop8.com/event?e=27894&f=ST':
        result.append(deck)

print(len(result))


# %%codecell
test_rank = "11-113"
assert re.match("^[0-9]*$", test_rank) or re.match("^[0-9]*-[0-9]*$", test_rank)
