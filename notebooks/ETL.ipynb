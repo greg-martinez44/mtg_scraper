{
 "cells": [
  {
   "cell_type": "code",
   "execution_count": 1,
   "metadata": {},
   "outputs": [
    {
     "data": {
      "text/plain": [
       "\"https://api.scryfall.com/cards/search?order=set&unique=art&q=set%3A'eld'+lang%3A'en'\""
      ]
     },
     "execution_count": 1,
     "metadata": {},
     "output_type": "execute_result"
    }
   ],
   "source": [
    "\"https://api.scryfall.com/cards/search?order=set&unique=art&q=set%3A'eld'+lang%3A'en'\""
   ]
  },
  {
   "cell_type": "code",
   "execution_count": 2,
   "metadata": {},
   "outputs": [],
   "source": [
    "# Change dir to get SQL connector\n",
    "import os\n",
    "os.chdir(\"..\")\n",
    "from src.sqldb import SQLDatabase"
   ]
  },
  {
   "cell_type": "code",
   "execution_count": 3,
   "metadata": {},
   "outputs": [],
   "source": [
    "import matplotlib.pyplot as plt\n",
    "import numpy as np\n",
    "import pandas as pd\n",
    "from datetime import datetime\n",
    "import requests\n",
    "from bs4 import BeautifulSoup\n",
    "import re\n",
    "import seaborn as sns"
   ]
  },
  {
   "cell_type": "markdown",
   "metadata": {},
   "source": [
    "# Updating Tables"
   ]
  },
  {
   "cell_type": "code",
   "execution_count": 4,
   "metadata": {},
   "outputs": [],
   "source": [
    "FLAT_FILE_DIR = \"flat_files/\"\n",
    "\n",
    "full_table = pd.read_csv(FLAT_FILE_DIR + \"full_table.csv\")\n",
    "event_table = pd.read_csv(FLAT_FILE_DIR + \"event_table.csv\")\n",
    "deck_list_table = pd.read_csv(FLAT_FILE_DIR + \"deck_list_table.csv\")\n",
    "pilot_table = pd.read_csv(FLAT_FILE_DIR + \"pilot_table.csv\")\n",
    "deck_table = pd.read_csv(FLAT_FILE_DIR + \"deck_table.csv\")\n",
    "card_table = pd.read_csv(FLAT_FILE_DIR + \"card_table.csv\")"
   ]
  },
  {
   "cell_type": "markdown",
   "metadata": {},
   "source": [
    "updater = m.Updater()\n",
    "updater.update_cards()"
   ]
  },
  {
   "cell_type": "markdown",
   "metadata": {},
   "source": [
    "# Cleaning"
   ]
  },
  {
   "cell_type": "markdown",
   "metadata": {},
   "source": [
    "New decks need to be checked for misformed codes & missing archetypes/categories"
   ]
  },
  {
   "cell_type": "code",
   "execution_count": 5,
   "metadata": {
    "scrolled": true
   },
   "outputs": [
    {
     "data": {
      "text/html": [
       "<div>\n",
       "<style scoped>\n",
       "    .dataframe tbody tr th:only-of-type {\n",
       "        vertical-align: middle;\n",
       "    }\n",
       "\n",
       "    .dataframe tbody tr th {\n",
       "        vertical-align: top;\n",
       "    }\n",
       "\n",
       "    .dataframe thead th {\n",
       "        text-align: right;\n",
       "    }\n",
       "</style>\n",
       "<table border=\"1\" class=\"dataframe\">\n",
       "  <thead>\n",
       "    <tr style=\"text-align: right;\">\n",
       "      <th></th>\n",
       "      <th>deckId</th>\n",
       "      <th>eventId</th>\n",
       "      <th>pilotId</th>\n",
       "      <th>deckUrl</th>\n",
       "      <th>name</th>\n",
       "      <th>rank</th>\n",
       "      <th>archetype</th>\n",
       "      <th>category</th>\n",
       "    </tr>\n",
       "  </thead>\n",
       "  <tbody>\n",
       "  </tbody>\n",
       "</table>\n",
       "</div>"
      ],
      "text/plain": [
       "Empty DataFrame\n",
       "Columns: [deckId, eventId, pilotId, deckUrl, name, rank, archetype, category]\n",
       "Index: []"
      ]
     },
     "execution_count": 5,
     "metadata": {},
     "output_type": "execute_result"
    }
   ],
   "source": [
    "deck_table.loc[deck_table.archetype.isna()]"
   ]
  },
  {
   "cell_type": "code",
   "execution_count": 6,
   "metadata": {},
   "outputs": [
    {
     "data": {
      "text/html": [
       "<div>\n",
       "<style scoped>\n",
       "    .dataframe tbody tr th:only-of-type {\n",
       "        vertical-align: middle;\n",
       "    }\n",
       "\n",
       "    .dataframe tbody tr th {\n",
       "        vertical-align: top;\n",
       "    }\n",
       "\n",
       "    .dataframe thead th {\n",
       "        text-align: right;\n",
       "    }\n",
       "</style>\n",
       "<table border=\"1\" class=\"dataframe\">\n",
       "  <thead>\n",
       "    <tr style=\"text-align: right;\">\n",
       "      <th></th>\n",
       "      <th>deckId</th>\n",
       "      <th>eventId</th>\n",
       "      <th>pilotId</th>\n",
       "      <th>deckUrl</th>\n",
       "      <th>name</th>\n",
       "      <th>rank</th>\n",
       "      <th>archetype</th>\n",
       "      <th>category</th>\n",
       "    </tr>\n",
       "  </thead>\n",
       "  <tbody>\n",
       "  </tbody>\n",
       "</table>\n",
       "</div>"
      ],
      "text/plain": [
       "Empty DataFrame\n",
       "Columns: [deckId, eventId, pilotId, deckUrl, name, rank, archetype, category]\n",
       "Index: []"
      ]
     },
     "execution_count": 6,
     "metadata": {},
     "output_type": "execute_result"
    }
   ],
   "source": [
    "deck_table.loc[deck_table.category.isna()]"
   ]
  },
  {
   "cell_type": "code",
   "execution_count": 7,
   "metadata": {},
   "outputs": [],
   "source": [
    "unmatched = set(deck_list_table.loc[~(deck_list_table.cardId.isin(card_table.cardId))][\"cardId\"])\n",
    "\n",
    "def find_urls_with_unmatched(unmatched):\n",
    "    unmatched_deck_ids = list(deck_list_table.loc[deck_list_table.cardId == unmatched][\"deckId\"])\n",
    "    return set(deck_table.loc[deck_table.deckId.isin(unmatched_deck_ids)][\"deckUrl\"])\n",
    "\n",
    "def print_page_source(unmatched):\n",
    "    unmatched_url = find_urls_with_unmatched(unmatched).pop()\n",
    "    print(unmatched_url)\n",
    "    html = requests.get(\"https://www.mtgtop8.com/event\" + unmatched_url)\n",
    "    return BeautifulSoup(html.text, features=\"lxml\")"
   ]
  },
  {
   "cell_type": "code",
   "execution_count": 8,
   "metadata": {},
   "outputs": [
    {
     "data": {
      "text/plain": [
       "{nan}"
      ]
     },
     "execution_count": 8,
     "metadata": {},
     "output_type": "execute_result"
    }
   ],
   "source": [
    "unmatched"
   ]
  },
  {
   "cell_type": "code",
   "execution_count": 9,
   "metadata": {
    "scrolled": true
   },
   "outputs": [
    {
     "data": {
      "text/html": [
       "<div>\n",
       "<style scoped>\n",
       "    .dataframe tbody tr th:only-of-type {\n",
       "        vertical-align: middle;\n",
       "    }\n",
       "\n",
       "    .dataframe tbody tr th {\n",
       "        vertical-align: top;\n",
       "    }\n",
       "\n",
       "    .dataframe thead th {\n",
       "        text-align: right;\n",
       "    }\n",
       "</style>\n",
       "<table border=\"1\" class=\"dataframe\">\n",
       "  <thead>\n",
       "    <tr style=\"text-align: right;\">\n",
       "      <th></th>\n",
       "      <th>cardId</th>\n",
       "      <th>name</th>\n",
       "    </tr>\n",
       "  </thead>\n",
       "  <tbody>\n",
       "    <tr>\n",
       "      <th>9598</th>\n",
       "      <td>077grn</td>\n",
       "      <td>Midnight Reaper</td>\n",
       "    </tr>\n",
       "    <tr>\n",
       "      <th>14906</th>\n",
       "      <td>101m13</td>\n",
       "      <td>Murder</td>\n",
       "    </tr>\n",
       "  </tbody>\n",
       "</table>\n",
       "</div>"
      ],
      "text/plain": [
       "       cardId             name\n",
       "9598   077grn  Midnight Reaper\n",
       "14906  101m13           Murder"
      ]
     },
     "execution_count": 9,
     "metadata": {},
     "output_type": "execute_result"
    }
   ],
   "source": [
    "standard_sets = \"eld|thb|znr|iko|khm|m21\"\n",
    "full_table[\n",
    "    (~full_table[\"cardId\"].str.contains(standard_sets, regex=True))\n",
    "    & (full_table[\"date\"] >= \"2020-09-29\")\n",
    "][[\"cardId\", \"name\"]].drop_duplicates()"
   ]
  },
  {
   "cell_type": "code",
   "execution_count": 17,
   "metadata": {},
   "outputs": [
    {
     "data": {
      "text/html": [
       "<div>\n",
       "<style scoped>\n",
       "    .dataframe tbody tr th:only-of-type {\n",
       "        vertical-align: middle;\n",
       "    }\n",
       "\n",
       "    .dataframe tbody tr th {\n",
       "        vertical-align: top;\n",
       "    }\n",
       "\n",
       "    .dataframe thead th {\n",
       "        text-align: right;\n",
       "    }\n",
       "</style>\n",
       "<table border=\"1\" class=\"dataframe\">\n",
       "  <thead>\n",
       "    <tr style=\"text-align: right;\">\n",
       "      <th></th>\n",
       "      <th>deckId</th>\n",
       "      <th>eventId</th>\n",
       "      <th>pilotId</th>\n",
       "      <th>deckUrl</th>\n",
       "      <th>name</th>\n",
       "      <th>rank</th>\n",
       "      <th>archetype</th>\n",
       "      <th>category</th>\n",
       "    </tr>\n",
       "  </thead>\n",
       "  <tbody>\n",
       "    <tr>\n",
       "      <th>552</th>\n",
       "      <td>553</td>\n",
       "      <td>102</td>\n",
       "      <td>479</td>\n",
       "      <td>?e=27633&amp;d=419513&amp;f=ST</td>\n",
       "      <td>Jund</td>\n",
       "      <td>2</td>\n",
       "      <td>jund</td>\n",
       "      <td>jund</td>\n",
       "    </tr>\n",
       "  </tbody>\n",
       "</table>\n",
       "</div>"
      ],
      "text/plain": [
       "     deckId  eventId  pilotId                 deckUrl  name rank archetype  \\\n",
       "552     553      102      479  ?e=27633&d=419513&f=ST  Jund    2      jund   \n",
       "\n",
       "    category  \n",
       "552     jund  "
      ]
     },
     "execution_count": 17,
     "metadata": {},
     "output_type": "execute_result"
    }
   ],
   "source": [
    "deck_table[\n",
    "    deck_table[\"deckId\"].isin(\n",
    "        full_table[\n",
    "            full_table[\"cardId\"] == \"101m13\"\n",
    "        ]\n",
    "        [\"deckId\"]\n",
    "    )\n",
    "]"
   ]
  },
  {
   "cell_type": "code",
   "execution_count": null,
   "metadata": {},
   "outputs": [],
   "source": []
  }
 ],
 "metadata": {
  "kernelspec": {
   "display_name": "Python 3",
   "language": "python",
   "name": "python3"
  },
  "language_info": {
   "codemirror_mode": {
    "name": "ipython",
    "version": 3
   },
   "file_extension": ".py",
   "mimetype": "text/x-python",
   "name": "python",
   "nbconvert_exporter": "python",
   "pygments_lexer": "ipython3",
   "version": "3.8.3"
  }
 },
 "nbformat": 4,
 "nbformat_minor": 4
}
