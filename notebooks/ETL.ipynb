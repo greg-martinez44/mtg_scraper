{
 "cells": [
  {
   "cell_type": "code",
   "execution_count": 1,
   "metadata": {},
   "outputs": [
    {
     "data": {
      "text/plain": [
       "\"https://api.scryfall.com/cards/search?order=set&unique=art&q=set%3A'eld'+lang%3A'en'\""
      ]
     },
     "execution_count": 1,
     "metadata": {},
     "output_type": "execute_result"
    }
   ],
   "source": [
    "\"https://api.scryfall.com/cards/search?order=set&unique=art&q=set%3A'eld'+lang%3A'en'\""
   ]
  },
  {
   "cell_type": "code",
   "execution_count": 2,
   "metadata": {},
   "outputs": [],
   "source": [
    "# Change dir to get SQL connector\n",
    "import os\n",
    "os.chdir(\"..\")\n",
    "from src.sqldb import SQLDatabase"
   ]
  },
  {
   "cell_type": "code",
   "execution_count": 3,
   "metadata": {},
   "outputs": [],
   "source": [
    "import matplotlib.pyplot as plt\n",
    "import numpy as np\n",
    "import pandas as pd\n",
    "from datetime import datetime\n",
    "import requests\n",
    "from bs4 import BeautifulSoup\n",
    "import re\n",
    "import seaborn as sns"
   ]
  },
  {
   "cell_type": "markdown",
   "metadata": {},
   "source": [
    "# Updating Tables"
   ]
  },
  {
   "cell_type": "code",
   "execution_count": 4,
   "metadata": {},
   "outputs": [],
   "source": [
    "# Constants\n",
    "URL = \"https://www.mtgtop8.com/format?f=ST\""
   ]
  },
  {
   "cell_type": "code",
   "execution_count": 5,
   "metadata": {},
   "outputs": [],
   "source": [
    "from src import models as m\n",
    "def update(URL):\n",
    "    updater = m.Updater()\n",
    "    updater.update_events(URL)\n",
    "    updater.update_decks_and_players()\n",
    "    updater.update_deck_lists()"
   ]
  },
  {
   "cell_type": "code",
   "execution_count": 98,
   "metadata": {},
   "outputs": [
    {
     "name": "stdout",
     "output_type": "stream",
     "text": [
      "Updating next page...\n",
      "updating https://www.mtgtop8.com/event?e=29160&f=ST\n",
      "updating https://www.mtgtop8.com/event?e=29161&f=ST\n"
     ]
    }
   ],
   "source": [
    "update(URL)"
   ]
  },
  {
   "cell_type": "markdown",
   "metadata": {},
   "source": [
    "updater = m.Updater()\n",
    "updater.update_cards()"
   ]
  },
  {
   "cell_type": "markdown",
   "metadata": {},
   "source": [
    "# Cleaning"
   ]
  },
  {
   "cell_type": "markdown",
   "metadata": {},
   "source": [
    "Loading data objects..."
   ]
  },
  {
   "cell_type": "code",
   "execution_count": 99,
   "metadata": {},
   "outputs": [],
   "source": [
    "with SQLDatabase() as sql_db:\n",
    "    event_table = sql_db.get_dataframe_from(\"event\")\n",
    "    deck_table = sql_db.get_dataframe_from(\"deck\")\n",
    "    deck_list_table = sql_db.get_dataframe_from(\"deckList\")\n",
    "    card_table = sql_db.get_dataframe_from(\"card\")\n",
    "    pilot_table = sql_db.get_dataframe_from(\"pilot\")\n",
    "\n",
    "# Clean Dates\n",
    "event_table[\"date\"] = pd.to_datetime(event_table[\"date\"], dayfirst=True)\n",
    "\n",
    "# Renaming ID Columns\n",
    "event_table.rename(columns={\"id\": \"eventId\"}, inplace=True)\n",
    "deck_table.rename(columns={\"id\": \"deckId\"}, inplace=True)\n",
    "pilot_table.rename(columns={\"id\": \"pilotId\"}, inplace=True)\n",
    "\n",
    "# Adding easier ID column to card_table\n",
    "card_table[\"setNumber\"] = card_table[\"setNumber\"].str.zfill(3)\n",
    "card_table[\"cardId\"] = card_table[\"setNumber\"] + card_table[\"setName\"]\n",
    "\n",
    "deck_table.loc[deck_table.deckId==601, \"name\"] = \"GW Adventures\"\n",
    "deck_table.loc[deck_table.deckId==930, \"name\"] = \"Izzet Mill\"\n",
    "deck_table.loc[deck_table.deckId==931, \"name\"] = \"Sultai Ramp\"\n",
    "deck_table.loc[deck_table.deckId==932, \"name\"] = \"Orzhov Aristocrats\"\n",
    "deck_table.loc[deck_table.deckId==934, \"name\"] = \"Temur Control\""
   ]
  },
  {
   "cell_type": "markdown",
   "metadata": {},
   "source": [
    "Adding archetypes to Deck Table.\n",
    "\n",
    "These are important to see how play styles are distributed across standard.\n",
    "\n",
    "Most general archetypes should be on top, so that the more specific archetypes get assigned if applicable."
   ]
  },
  {
   "cell_type": "code",
   "execution_count": 100,
   "metadata": {},
   "outputs": [],
   "source": [
    "# Adding archetypes to deck_table\n",
    "archetypes = {\n",
    "    \"jund\": [\"jund\"],\n",
    "    \"golgari\": [\"golgari\"],\n",
    "    \"aggro\": [\"aggro\", \"red deck wins\", \"weenie\", \"ww\", \"mono green\", \"rdw\", \"devotion to black\", \"agro\"],\n",
    "    \"control\": [\"control\", \"doom\", \"4cc\", \"yorion\"],\n",
    "    \"midrange\": [\"midrange\", \"mid range\"],\n",
    "    \"gyruda\": [\"gyruda\"],\n",
    "    \"winota\": [\"winota\"],\n",
    "    \"mill\": [\"mill\"],\n",
    "    \"ramp\": [\"ramp\", \"omnath\", \"ultimatum\", \"forsaken monument\"],\n",
    "    \"rogue\": [\"rogue\"],\n",
    "    \"flash\": [\"flash\"],\n",
    "    \"adventure\": [\"adventure\"],\n",
    "    \"food\": [\"food\"],\n",
    "    \"reclamation\": [\"reclamation\"],\n",
    "    \"sacrifce\": [\"sacrifice\", \"aristocrats\"],\n",
    "    \"cycling\": [\"cycling\"],\n",
    "    \"kicker\": [\"kicker\", \"kick\"],\n",
    "    \"mutate\": [\"mutate\"],\n",
    "    \"stompy\": [\"stompy\"],\n",
    "    \"dragons\": [\"dragon\"]\n",
    "}\n",
    "\n",
    "for archetype in archetypes:\n",
    "    for placeholder in archetypes[archetype]:\n",
    "        deck_table.loc[\n",
    "            (deck_table.name.str.lower().str.contains(placeholder)),\n",
    "            \"archetype\"\n",
    "        ] = archetype\n",
    "\n",
    "deck_table.loc[deck_table.name == \"5c Sanctum\", \"archetype\"] = \"control\"\n",
    "deck_table.loc[deck_table.deckId == 2452, \"archetype\"] = \"aggro\"\n",
    "deck_table.loc[deck_table.deckId == 2757, \"archetype\"] = \"control\"\n",
    "deck_table.loc[deck_table.deckId == 2975, \"archetype\"] = \"aggro\"\n",
    "deck_table.loc[deck_table.deckId == 3020, \"archetype\"] = \"aggro\"\n",
    "deck_table.loc[deck_table.deckId == 3024, \"archetype\"] = \"aggro\""
   ]
  },
  {
   "cell_type": "markdown",
   "metadata": {},
   "source": [
    "Adding color categories to Deck Table.\n",
    "\n",
    "Color category is a big factor when looking at how the makeup of standard has evolved."
   ]
  },
  {
   "cell_type": "code",
   "execution_count": 101,
   "metadata": {},
   "outputs": [],
   "source": [
    "# Adding easy color groups to deck_table\n",
    "categories = {\n",
    "    \"mono white\": [\"mono white\", \"mono-white\", \"white weenie\", \"weenie white\", \"ww\"],\n",
    "    \"mono blue\": [\"mono blue\", \"mono-blue\"],\n",
    "    \"mono black\": [\"mono black\", \"mono-black\", \"devotion to black\"],\n",
    "    \"mono red\": [\"mono red\", \"mono-red\", \"red deck wins\", \"rdw\"],\n",
    "    \"mono green\": [\"mono green\", \"mono-green\", \"monogreen\"],\n",
    "    \"azorius\": [\"azorius\", \"uw\", \"wu\"],\n",
    "    \"orzhov\": [\"orzhov\", \"wb\", \"bw\"],\n",
    "    \"boros\": [\"boros\", \"wr\", \"rw\", \"winota\"],\n",
    "    \"selesnya\": [\"selesnya\", \"wg\", \"gw\"],\n",
    "    \"dimir\": [\"dimir\", \"ub\"],\n",
    "    \"izzet\": [\"izzet\", \"ur\"],\n",
    "    \"simic\": [\"simic\", \" ug \"],\n",
    "    \"rakdos\": [\"rakdos\", \"br\", \"rb\"],\n",
    "    \"golgari\": [\"golgari\", \"bg\", \"gb\"],\n",
    "    \"gruul\": [\"gruul\", \"rg\"],\n",
    "    \"bant\": [\"bant\", \"gwu\", \"guw\", \"ugw\", \"uwg\", \"wgu\", \"wug\"],\n",
    "    \"esper\": [\"esper\", \"wub\"],\n",
    "    \"grixis\": [\"grixis\"],\n",
    "    \"jund\": [\"jund\"],\n",
    "    \"naya\": [\"naya\"],\n",
    "    \"jeskai\": [\"jeskai\"],\n",
    "    \"sultai\": [\"sultai\"],\n",
    "    \"mardu\": [\"mardu\", \"kroxa doom\"],\n",
    "    \"temur\": [\"temur\"],\n",
    "    \"abzan\": [\"abzan\"],\n",
    "    \"4-color\": [\"omnath\", \"4c\"],\n",
    "    \"colorless\": [\"forsaken monument\"],\n",
    "    \"5-color\": [\"5c\"]\n",
    "}\n",
    "\n",
    "for category in categories:\n",
    "    for placeholder in categories[category]:\n",
    "        deck_table.loc[\n",
    "            (deck_table.name.str.lower().str.contains(placeholder)),\n",
    "            \"category\"\n",
    "        ] = category\n",
    "\n",
    "deck_table.loc[\n",
    "    (deck_table.name.str.lower() == \"gyruda\"),\n",
    "    \"category\"\n",
    "] = \"4-color\"\n",
    "\n",
    "deck_table.loc[(deck_table.deckId == 360), \"category\"] = \"gruul\""
   ]
  },
  {
   "cell_type": "markdown",
   "metadata": {},
   "source": [
    "Some codes are not in Scryfall's api, and some (like the core sets) are not picked up in the source code, which is itself a bug. These codes are manually updated to equivalent cards with recognizable card codes."
   ]
  },
  {
   "cell_type": "code",
   "execution_count": 102,
   "metadata": {},
   "outputs": [],
   "source": [
    "# Replace all the abu codes with updated codes for basic lands \n",
    "# and Disenchant & Unsummon & Righteousness\n",
    "abu_codes = {\n",
    "    \"092abu\": \"266eld\",\n",
    "    \"170abu\": \"262eld\",\n",
    "    \"130abu\": \"254eld\",\n",
    "    \"196abu\": \"250eld\",\n",
    "    \"249abu\": \"258eld\",\n",
    "    \"065abu\": \"010znr\",\n",
    "    \"271abu\": \"078m20\",\n",
    "    \"215abu\": \"027eld\"\n",
    "}\n",
    "\n",
    "# Adding randomly misformed codes.\n",
    "other_codes = {\n",
    "    \"171cmd\": \"204m21\", # Scavenging Ooze\n",
    "    \"356eld\": \"101eld\", # Rankle, Master of Pranks\n",
    "    \"367eld\": \"147eld\", # Torbran, Thane of Red Fell\n",
    "    \"335eld\": \"008eld\", # Charming Prince\n",
    "    \"346eld\": \"054eld\", # Midnight Clock\n",
    "    \"001unk\": \"\", # Unknown card\n",
    "    \"003ivg\": \"174grn\", # Goblin Electromancer\n",
    "    \"00410m\": \"004m10\", # Baneslayer Angel\n",
    "    \"00514c\": \"013m21\", # Containment Priest\n",
    "    \"021sha\": \"021shm\", # Runed Halo\n",
    "    \"036str\": \"126eld\", # Fling\n",
    "    \"0496th\": \"032m20\", # Pacifism\n",
    "    \"05110m\": \"051m10\", # Essence Scatter\n",
    "    \"05412m\": \"054m12\", # Frost Breath\n",
    "    \"054m12 \": \"054m12\",\n",
    "    \"079sta\": \"103m21\", # Grim Tutor\n",
    "    \"083urs\": \"096m21\", # Duress\n",
    "    \"10113m\": \"101m13\", # Murder\n",
    "    \"107dar\": \"241m21\", # Tormod's Crypt\n",
    "    \"1136th\": \"159m21\", # Shock\n",
    "    \"12410m\": \"124m10\", # Act of Treason\n",
    "    \"1276th\": \"171m21\", # Volcanic Geyser\n",
    "    \"144gui\": \"248rna\", # Godless Shrine\n",
    "    \"162gui\": \"257grn\", # Steam Vents\n",
    "    \"163gui\": \"259rna\", # Stomping Ground\n",
    "    \"23215m\": \"245m15\", # Radiant Fountain\n",
    "    \"237urs\": \"063m21\", # Rewind\n",
    "    \"309thb\": \"076thb\", # Thryx, the Sudden Storm\n",
    "    \"328iko\": \"162iko\", # Kogla, the Titan Ape\n",
    "    \"334eld\": \"001eld\", # Acclaimed Contender\n",
    "    \"364znr\": \"215znr\",  # Turntimber Symbiosis // Turntimber, Serpentine...\n",
    "    \"117urs\": \"021m21\",\n",
    "    \"189eld\": \"187eld\",\n",
    "    \"012urs\": \"042khm\"\n",
    "}\n",
    "\n",
    "card_table[\"cardId\"].replace(to_replace=abu_codes, inplace=True)\n",
    "deck_list_table[\"cardId\"].replace(to_replace=abu_codes, inplace=True)\n",
    "\n",
    "deck_list_table[\"cardId\"].replace(to_replace=other_codes, inplace=True)\n",
    "\n"
   ]
  },
  {
   "cell_type": "markdown",
   "metadata": {},
   "source": [
    "New decks need to be checked for misformed codes & missing archetypes/categories"
   ]
  },
  {
   "cell_type": "code",
   "execution_count": 103,
   "metadata": {
    "scrolled": true
   },
   "outputs": [
    {
     "data": {
      "text/html": [
       "<div>\n",
       "<style scoped>\n",
       "    .dataframe tbody tr th:only-of-type {\n",
       "        vertical-align: middle;\n",
       "    }\n",
       "\n",
       "    .dataframe tbody tr th {\n",
       "        vertical-align: top;\n",
       "    }\n",
       "\n",
       "    .dataframe thead th {\n",
       "        text-align: right;\n",
       "    }\n",
       "</style>\n",
       "<table border=\"1\" class=\"dataframe\">\n",
       "  <thead>\n",
       "    <tr style=\"text-align: right;\">\n",
       "      <th></th>\n",
       "      <th>deckId</th>\n",
       "      <th>eventId</th>\n",
       "      <th>pilotId</th>\n",
       "      <th>deckUrl</th>\n",
       "      <th>name</th>\n",
       "      <th>rank</th>\n",
       "      <th>archetype</th>\n",
       "      <th>category</th>\n",
       "    </tr>\n",
       "  </thead>\n",
       "  <tbody>\n",
       "  </tbody>\n",
       "</table>\n",
       "</div>"
      ],
      "text/plain": [
       "Empty DataFrame\n",
       "Columns: [deckId, eventId, pilotId, deckUrl, name, rank, archetype, category]\n",
       "Index: []"
      ]
     },
     "execution_count": 103,
     "metadata": {},
     "output_type": "execute_result"
    }
   ],
   "source": [
    "deck_table.loc[deck_table.archetype.isna()]"
   ]
  },
  {
   "cell_type": "code",
   "execution_count": 104,
   "metadata": {},
   "outputs": [
    {
     "data": {
      "text/html": [
       "<div>\n",
       "<style scoped>\n",
       "    .dataframe tbody tr th:only-of-type {\n",
       "        vertical-align: middle;\n",
       "    }\n",
       "\n",
       "    .dataframe tbody tr th {\n",
       "        vertical-align: top;\n",
       "    }\n",
       "\n",
       "    .dataframe thead th {\n",
       "        text-align: right;\n",
       "    }\n",
       "</style>\n",
       "<table border=\"1\" class=\"dataframe\">\n",
       "  <thead>\n",
       "    <tr style=\"text-align: right;\">\n",
       "      <th></th>\n",
       "      <th>deckId</th>\n",
       "      <th>eventId</th>\n",
       "      <th>pilotId</th>\n",
       "      <th>deckUrl</th>\n",
       "      <th>name</th>\n",
       "      <th>rank</th>\n",
       "      <th>archetype</th>\n",
       "      <th>category</th>\n",
       "    </tr>\n",
       "  </thead>\n",
       "  <tbody>\n",
       "  </tbody>\n",
       "</table>\n",
       "</div>"
      ],
      "text/plain": [
       "Empty DataFrame\n",
       "Columns: [deckId, eventId, pilotId, deckUrl, name, rank, archetype, category]\n",
       "Index: []"
      ]
     },
     "execution_count": 104,
     "metadata": {},
     "output_type": "execute_result"
    }
   ],
   "source": [
    "deck_table.loc[deck_table.category.isna()]"
   ]
  },
  {
   "cell_type": "code",
   "execution_count": 105,
   "metadata": {},
   "outputs": [],
   "source": [
    "unmatched = set(deck_list_table.loc[~(deck_list_table.cardId.isin(card_table.cardId))][\"cardId\"])\n",
    "\n",
    "def find_urls_with_unmatched(unmatched):\n",
    "    unmatched_deck_ids = list(deck_list_table.loc[deck_list_table.cardId == unmatched][\"deckId\"])\n",
    "    return set(deck_table.loc[deck_table.deckId.isin(unmatched_deck_ids)][\"deckUrl\"])\n",
    "\n",
    "def print_page_source(unmatched):\n",
    "    unmatched_url = find_urls_with_unmatched(unmatched).pop()\n",
    "    print(unmatched_url)\n",
    "    html = requests.get(\"https://www.mtgtop8.com/event\" + unmatched_url)\n",
    "    return BeautifulSoup(html.text, features=\"lxml\")"
   ]
  },
  {
   "cell_type": "code",
   "execution_count": 106,
   "metadata": {},
   "outputs": [
    {
     "data": {
      "text/plain": [
       "{''}"
      ]
     },
     "execution_count": 106,
     "metadata": {},
     "output_type": "execute_result"
    }
   ],
   "source": [
    "unmatched"
   ]
  },
  {
   "cell_type": "code",
   "execution_count": 107,
   "metadata": {},
   "outputs": [],
   "source": [
    "ZENDIKAR_RELEASE = \"2020-09-25\"\n",
    "KALDHEIM_RELEASE = \"2021-02-05\"\n",
    "\n",
    "event_table.loc[event_table[\"date\"] < ZENDIKAR_RELEASE, \"latest_set\"] = \"Ikoria\"\n",
    "event_table.loc[(event_table[\"date\"] >= ZENDIKAR_RELEASE) & (event_table[\"date\"] < KALDHEIM_RELEASE), \"latest_set\"] = \"Zendikar Rising\"\n",
    "event_table.loc[event_table[\"date\"] >= KALDHEIM_RELEASE, \"latest_set\"] = \"Kaldheim\""
   ]
  },
  {
   "cell_type": "code",
   "execution_count": 108,
   "metadata": {},
   "outputs": [],
   "source": [
    "deck_table.loc[(deck_table[\"rank\"] == \"11 pts\") & (deck_table[\"eventId\"] == 22), \"rank\"] = 1\n",
    "deck_table.loc[(deck_table[\"rank\"] == \"9 pts\") & (deck_table[\"eventId\"] == 22), \"rank\"] = 2\n",
    "deck_table.loc[(deck_table[\"rank\"] == \"8 pts\") & (deck_table[\"eventId\"] == 22), \"rank\"] = 3\n",
    "deck_table.loc[(deck_table[\"rank\"] == \"7 pts\") & (deck_table[\"eventId\"] == 22), \"rank\"] = 4\n",
    "deck_table.loc[(deck_table[\"rank\"] == \"6 pts\") & (deck_table[\"eventId\"] == 22), \"rank\"] = 5\n",
    "deck_table.loc[(deck_table[\"rank\"] == \"5 pts\") & (deck_table[\"eventId\"] == 22), \"rank\"] = 6\n",
    "deck_table.loc[(deck_table[\"rank\"] == \"4 pts\") & (deck_table[\"eventId\"] == 22), \"rank\"] = 7\n",
    "\n",
    "deck_table.loc[(deck_table[\"rank\"] == \"9 pts\") & (deck_table[\"eventId\"] == 30), \"rank\"] = 1\n",
    "deck_table.loc[(deck_table[\"rank\"] == \"8 pts\") & (deck_table[\"eventId\"] == 30), \"rank\"] = 2\n",
    "deck_table.loc[(deck_table[\"rank\"] == \"7 pts\") & (deck_table[\"eventId\"] == 30), \"rank\"] = 3\n",
    "deck_table.loc[(deck_table[\"rank\"] == \"6 pts\") & (deck_table[\"eventId\"] == 30), \"rank\"] = 4\n",
    "deck_table.loc[(deck_table[\"rank\"] == \"5 pts\") & (deck_table[\"eventId\"] == 30), \"rank\"] = 5\n",
    "\n",
    "deck_table.loc[(deck_table[\"rank\"] == \"21 pts\") & (deck_table[\"eventId\"] == 300), \"rank\"] = 1\n",
    "deck_table.loc[(deck_table[\"rank\"] == \"1 pts\") & (deck_table[\"eventId\"] == 300), \"rank\"] = 2\n",
    "\n",
    "deck_table.loc[(deck_table[\"rank\"] == \"24 pts\") & (deck_table[\"eventId\"] == 408), \"rank\"] = 1\n",
    "deck_table.loc[(deck_table[\"rank\"] == \"21 pts\") & (deck_table[\"eventId\"] == 408), \"rank\"] = 2\n",
    "deck_table.loc[(deck_table[\"rank\"] == \"18 pts\") & (deck_table[\"eventId\"] == 408), \"rank\"] = 3\n",
    "\n",
    "deck_table.loc[(deck_table[\"rank\"] == \"5-8\"), \"rank\"] = 5\n",
    "\n",
    "deck_table.loc[(deck_table[\"rank\"] == \"3-4\"), \"rank\"] = 3"
   ]
  },
  {
   "cell_type": "code",
   "execution_count": 109,
   "metadata": {
    "scrolled": true
   },
   "outputs": [],
   "source": [
    "events_and_decks = pd.merge(\n",
    "    event_table, \n",
    "    deck_table, \n",
    "    on=\"eventId\",\n",
    "    suffixes=[\"_event\", \"_deck\"]\n",
    ").drop_duplicates()\n",
    "\n",
    "events_decks_pilots = pd.merge(\n",
    "    events_and_decks,\n",
    "    pilot_table,\n",
    "    on=\"pilotId\",\n",
    "    suffixes=[None, \"_pilot\"]\n",
    ").drop_duplicates()\n",
    "\n",
    "full_table_no_cards = pd.merge(\n",
    "    events_decks_pilots,\n",
    "    deck_list_table,\n",
    "    on=\"deckId\",\n",
    "    suffixes=[None, \"_decklist\"]\n",
    ").drop_duplicates()\n",
    "\n",
    "full_table1 = pd.merge(\n",
    "    full_table_no_cards,\n",
    "    card_table,\n",
    "    on=\"cardId\",\n",
    "    suffixes=[None, \"_cards\"]\n",
    ")[[\n",
    "    \"eventId\",\n",
    "    \"name_event\",\n",
    "    \"date\",\n",
    "    \"deckId\",\n",
    "    \"pilotId\",\n",
    "    \"name_deck\",\n",
    "    \"firstName\",\n",
    "    \"lastName\",\n",
    "    \"cardId\",\n",
    "    \"name\",\n",
    "    \"count\",\n",
    "    \"color\",\n",
    "    \"slot\",\n",
    "    \"archetype\",\n",
    "    \"category\",\n",
    "    \"latest_set\"\n",
    "]].drop_duplicates().sort_values(by=[\"eventId\", \"deckId\", \"slot\"]).reset_index(drop=True)"
   ]
  },
  {
   "cell_type": "code",
   "execution_count": 110,
   "metadata": {},
   "outputs": [],
   "source": [
    "def update_set_codes(old, new, name=None, color=None):\n",
    "    if name:\n",
    "        full_table1.loc[full_table1[\"cardId\"] == old, \"name\"] = name\n",
    "    if color:\n",
    "        full_table1.loc[full_table1[\"cardId\"] == old, \"color\"] = color\n",
    "    full_table1.loc[full_table1[\"cardId\"] == old, \"cardId\"] = new\n",
    "    deck_list_table.loc[deck_list_table[\"cardId\"] == old, \"cardId\"] = new\n",
    "\n",
    "\n",
    "update_set_codes(\"228ths\", \"256m21\")\n",
    "update_set_codes(\"043mor\", \"071znr\")\n",
    "update_set_codes(\"001frf\", \"001m21\")\n",
    "update_set_codes(\"119akh\", \"107iko\")\n",
    "update_set_codes(\"228roe\", \"247iko\")\n",
    "update_set_codes(\"201isd\", \"199m21\")\n",
    "update_set_codes(\"245mrd\", \"239m21\")\n",
    "update_set_codes(\"096isd\", \"083iko\")\n",
    "update_set_codes(\"005jou\", \"004thb\")\n",
    "update_set_codes(\"148rix\", \"209m21\")\n",
    "update_set_codes(\"225ths\", \"245thb\")\n",
    "update_set_codes(\"051m10\", \"049iko\")\n",
    "update_set_codes(\"246ktk\", \"257iko\")\n",
    "update_set_codes(\"165jou\", \"253m21\")\n",
    "update_set_codes(\"160bng\", \"246thb\", \"Temple of Enlightenment\", \"\")\n",
    "update_set_codes(\"161bng\", \"247thb\", \"Temple of Malice\", \"\")\n",
    "update_set_codes(\"088ths\", \"099thb\", \"Gray Merchant of Asphodel\", \"B\")\n",
    "update_set_codes(\"162bng\", \"248thb\", \"Temple of Plenty\", \"\")\n",
    "update_set_codes(\"175war\", \"197thb\")\n",
    "update_set_codes(\"169inv\", \"059m21\", \"Opt\", \"U\")\n",
    "update_set_codes(\"232ktk\", \"246iko\")\n",
    "update_set_codes(\"235ktk\", \"249iko\")\n",
    "update_set_codes(\"065mh1\", \"061m21\")\n",
    "update_set_codes(\"048zen\", \"062znr\")\n",
    "update_set_codes(\"227ths\", \"255m21\")\n",
    "update_set_codes(\"168zen\", \"193znr\")\n",
    "update_set_codes(\"065som\", \"102m21\")\n",
    "update_set_codes(\"168m11\", \"177m21\")\n",
    "update_set_codes(\"109aer\", \"188m21\")\n",
    "update_set_codes(\"115ori\", \"103eld\")\n",
    "update_set_codes(\"004m10\", \"006m21\")\n",
    "update_set_codes(\"226ths\", \"254m21\")\n",
    "update_set_codes(\"248xln\", \"233eld\")\n",
    "update_set_codes(\"164jou\", \"252m21\")\n",
    "update_set_codes(\"143isd\", \"145m21\")\n",
    "update_set_codes(\"043hou\", \"064m21\")\n",
    "update_set_codes(\"224ths\", \"244thb\")\n",
    "update_set_codes(\"088hou\", \"140m21\")\n",
    "update_set_codes(\"018som\", \"034thb\")\n",
    "update_set_codes(\"145m20\", \"141thb\")\n",
    "update_set_codes(\"190m11\", \"169iko\")\n",
    "update_set_codes(\"229ktk\", \"243iko\")\n",
    "update_set_codes(\"240ktk\", \"252iko\")\n",
    "update_set_codes(\"176war\", \"207m21\")\n",
    "update_set_codes(\"110xln\", \"107m21\")\n",
    "update_set_codes(\"046mbs\", \"114m21\")\n",
    "update_set_codes(\"201chk\", \"173m21\")\n",
    "update_set_codes(\"236ktk\", \"255iko\", \"Swiftwater Cliffs\", \"\")\n",
    "update_set_codes(\"237ktk\", \"256iko\", \"Thornwood Falls\", \"\")\n",
    "update_set_codes(\"255xln\", \"242thb\", \"Field of Ruin\", \"\")\n",
    "update_set_codes(\"232m15\", \"248m21\", \"Radiant Fountain\", \"\")\n",
    "update_set_codes(\"229ths\", \"249thb\")\n",
    "update_set_codes(\"190som\", \"234m21\")\n",
    "update_set_codes(\"010war\", \"009iko\")\n",
    "update_set_codes(\"079emn\", \"082m21\")\n",
    "update_set_codes(\"010ktk\", \"019m21\")\n",
    "update_set_codes(\"040ori\", \"043m21\")\n",
    "update_set_codes(\"223soi\", \"199znr\")\n",
    "update_set_codes(\"082mbs\", \"163iko\")\n",
    "update_set_codes(\"247ktk\", \"258iko\")\n",
    "update_set_codes(\"147roe\", \"147m21\")\n",
    "update_set_codes(\"078aer\", \"141m21\")\n",
    "update_set_codes(\"032m20\", \"025iko\")\n",
    "update_set_codes(\"016rav\", \"017m21\")\n",
    "update_set_codes(\"231ktk\", \"244iko\")\n",
    "update_set_codes(\"035m19\", \"031m21\")\n",
    "update_set_codes(\"145war\", \"161m21\")\n",
    "update_set_codes(\"041rav\", \"045iko\")\n",
    "update_set_codes(\"133ths\", \"149thb\")\n",
    "update_set_codes(\"168akh\", \"157iko\")\n",
    "update_set_codes(\"054m12\", \"051m21\")\n",
    "update_set_codes(\"245m19\", \"238m21\")\n",
    "update_set_codes(\"242ktk\", \"254iko\")\n",
    "update_set_codes(\"279leg\", \"121thb\", \"Underworld Dreams\", \"B\")\n",
    "update_set_codes(\"011dom\", \"016m21\", \"Dub\", \"W\")\n",
    "update_set_codes(\"310ice\", \"382znr\", \"Swamp\", \"\")\n",
    "update_set_codes(\"189dom\", \"142iko\", \"Adventurous Impulse\", \"G\")\n",
    "update_set_codes(\"076dom\", \"082iko\", \"Dark Bargain\", \"B\")\n",
    "update_set_codes(\"101m13\", \"109m20\")\n",
    "update_set_codes(\"172dis\", \"246rna\")\n",
    "update_set_codes(\"051tsp\", \"046m21\")\n",
    "update_set_codes(\"149dka\", \"227m20\")\n",
    "update_set_codes(\"021shm\", \"032m21\")\n",
    "update_set_codes(\"034isd\", \"042znr\", \"Smite the Monstrous\",\"W\")\n",
    "update_set_codes(\"108kld\", \"110iko\", \"Cathartic Reunion\", \"R\")\n",
    "update_set_codes(\"090dom\", \"094m21\", \"Deathbloom Thallid\", \"B\")\n",
    "update_set_codes(\"037ktk\", \"054khm\")\n",
    "update_set_codes(\"307ice\", \"278khm\", \"Snow-Covered Island\")\n",
    "update_set_codes(\"308ice\", \"283khm\", \"Snow-Covered Mountain\")\n",
    "update_set_codes(\"306ice\", \"284khm\", \"Snow-Covered Forest\")\n",
    "update_set_codes(\"309ice\", \"277khm\", \"Snow-Covered Plains\")\n",
    "update_set_codes(\"075war\", \"085m21\")\n",
    "update_set_codes(\"100kld\", \"128znr\")\n",
    "update_set_codes(\"007ktk\", \"015m21\")"
   ]
  },
  {
   "cell_type": "code",
   "execution_count": 112,
   "metadata": {},
   "outputs": [],
   "source": [
    "full_table1.to_csv(\"flat_files/full_table.csv\", index=False)\n",
    "event_table.to_csv(\"flat_files/event_table.csv\", index=False)\n",
    "deck_table.to_csv(\"flat_files/deck_table.csv\", index=False)\n",
    "deck_list_table.to_csv(\"flat_files/deck_list_table.csv\", index=False)\n",
    "card_table.to_csv(\"flat_files/card_table.csv\", index=False)\n",
    "pilot_table.to_csv(\"flat_files/pilot_table.csv\", index=False)"
   ]
  },
  {
   "cell_type": "code",
   "execution_count": 111,
   "metadata": {
    "scrolled": true
   },
   "outputs": [
    {
     "data": {
      "text/html": [
       "<div>\n",
       "<style scoped>\n",
       "    .dataframe tbody tr th:only-of-type {\n",
       "        vertical-align: middle;\n",
       "    }\n",
       "\n",
       "    .dataframe tbody tr th {\n",
       "        vertical-align: top;\n",
       "    }\n",
       "\n",
       "    .dataframe thead th {\n",
       "        text-align: right;\n",
       "    }\n",
       "</style>\n",
       "<table border=\"1\" class=\"dataframe\">\n",
       "  <thead>\n",
       "    <tr style=\"text-align: right;\">\n",
       "      <th></th>\n",
       "      <th>cardId</th>\n",
       "      <th>name</th>\n",
       "    </tr>\n",
       "  </thead>\n",
       "  <tbody>\n",
       "    <tr>\n",
       "      <th>9598</th>\n",
       "      <td>077grn</td>\n",
       "      <td>Midnight Reaper</td>\n",
       "    </tr>\n",
       "    <tr>\n",
       "      <th>14906</th>\n",
       "      <td>109m20</td>\n",
       "      <td>Murder</td>\n",
       "    </tr>\n",
       "  </tbody>\n",
       "</table>\n",
       "</div>"
      ],
      "text/plain": [
       "       cardId             name\n",
       "9598   077grn  Midnight Reaper\n",
       "14906  109m20           Murder"
      ]
     },
     "execution_count": 111,
     "metadata": {},
     "output_type": "execute_result"
    }
   ],
   "source": [
    "standard_sets = \"eld|thb|znr|iko|khm|m21\"\n",
    "full_table1[\n",
    "    (~full_table1[\"cardId\"].str.contains(standard_sets, regex=True))\n",
    "    & (full_table1[\"date\"] >= \"2020-09-29\")\n",
    "][[\"cardId\", \"name\"]].drop_duplicates()"
   ]
  },
  {
   "cell_type": "code",
   "execution_count": 91,
   "metadata": {},
   "outputs": [
    {
     "data": {
      "text/html": [
       "<div>\n",
       "<style scoped>\n",
       "    .dataframe tbody tr th:only-of-type {\n",
       "        vertical-align: middle;\n",
       "    }\n",
       "\n",
       "    .dataframe tbody tr th {\n",
       "        vertical-align: top;\n",
       "    }\n",
       "\n",
       "    .dataframe thead th {\n",
       "        text-align: right;\n",
       "    }\n",
       "</style>\n",
       "<table border=\"1\" class=\"dataframe\">\n",
       "  <thead>\n",
       "    <tr style=\"text-align: right;\">\n",
       "      <th></th>\n",
       "      <th>deckId</th>\n",
       "      <th>eventId</th>\n",
       "      <th>pilotId</th>\n",
       "      <th>deckUrl</th>\n",
       "      <th>name</th>\n",
       "      <th>rank</th>\n",
       "      <th>archetype</th>\n",
       "      <th>category</th>\n",
       "    </tr>\n",
       "  </thead>\n",
       "  <tbody>\n",
       "  </tbody>\n",
       "</table>\n",
       "</div>"
      ],
      "text/plain": [
       "Empty DataFrame\n",
       "Columns: [deckId, eventId, pilotId, deckUrl, name, rank, archetype, category]\n",
       "Index: []"
      ]
     },
     "execution_count": 91,
     "metadata": {},
     "output_type": "execute_result"
    }
   ],
   "source": [
    "deck_table[\n",
    "    deck_table[\"deckId\"].isin(\n",
    "        full_table1[\n",
    "            full_table1[\"cardId\"] == \"309ice\"\n",
    "        ]\n",
    "        [\"deckId\"]\n",
    "    )\n",
    "]"
   ]
  },
  {
   "cell_type": "code",
   "execution_count": 94,
   "metadata": {},
   "outputs": [
    {
     "data": {
      "text/html": [
       "<div>\n",
       "<style scoped>\n",
       "    .dataframe tbody tr th:only-of-type {\n",
       "        vertical-align: middle;\n",
       "    }\n",
       "\n",
       "    .dataframe tbody tr th {\n",
       "        vertical-align: top;\n",
       "    }\n",
       "\n",
       "    .dataframe thead th {\n",
       "        text-align: right;\n",
       "    }\n",
       "</style>\n",
       "<table border=\"1\" class=\"dataframe\">\n",
       "  <thead>\n",
       "    <tr style=\"text-align: right;\">\n",
       "      <th></th>\n",
       "      <th>setNumber</th>\n",
       "      <th>setName</th>\n",
       "      <th>name</th>\n",
       "      <th>cmc</th>\n",
       "      <th>color</th>\n",
       "      <th>mana_cost</th>\n",
       "      <th>standardLegality</th>\n",
       "      <th>oracle_text</th>\n",
       "      <th>cardId</th>\n",
       "    </tr>\n",
       "  </thead>\n",
       "  <tbody>\n",
       "    <tr>\n",
       "      <th>1153</th>\n",
       "      <td>015</td>\n",
       "      <td>m21</td>\n",
       "      <td>Defiant Strike</td>\n",
       "      <td>1</td>\n",
       "      <td>W</td>\n",
       "      <td>{W}</td>\n",
       "      <td>legal</td>\n",
       "      <td>Target creature gets +1/+0 until end of turn.\\...</td>\n",
       "      <td>015m21</td>\n",
       "    </tr>\n",
       "    <tr>\n",
       "      <th>1935</th>\n",
       "      <td>009</td>\n",
       "      <td>war</td>\n",
       "      <td>Defiant Strike</td>\n",
       "      <td>1</td>\n",
       "      <td>W</td>\n",
       "      <td>{W}</td>\n",
       "      <td>legal</td>\n",
       "      <td>Target creature gets +1/+0 until end of turn.\\...</td>\n",
       "      <td>009war</td>\n",
       "    </tr>\n",
       "    <tr>\n",
       "      <th>8675</th>\n",
       "      <td>007</td>\n",
       "      <td>ktk</td>\n",
       "      <td>Defiant Strike</td>\n",
       "      <td>1</td>\n",
       "      <td>W</td>\n",
       "      <td>{W}</td>\n",
       "      <td>legal</td>\n",
       "      <td>Target creature gets +1/+0 until end of turn.\\...</td>\n",
       "      <td>007ktk</td>\n",
       "    </tr>\n",
       "  </tbody>\n",
       "</table>\n",
       "</div>"
      ],
      "text/plain": [
       "     setNumber setName            name  cmc color mana_cost standardLegality  \\\n",
       "1153       015     m21  Defiant Strike    1     W       {W}            legal   \n",
       "1935       009     war  Defiant Strike    1     W       {W}            legal   \n",
       "8675       007     ktk  Defiant Strike    1     W       {W}            legal   \n",
       "\n",
       "                                            oracle_text  cardId  \n",
       "1153  Target creature gets +1/+0 until end of turn.\\...  015m21  \n",
       "1935  Target creature gets +1/+0 until end of turn.\\...  009war  \n",
       "8675  Target creature gets +1/+0 until end of turn.\\...  007ktk  "
      ]
     },
     "execution_count": 94,
     "metadata": {},
     "output_type": "execute_result"
    }
   ],
   "source": [
    "card_table[card_table[\"name\"] == \"Defiant Strike\"]"
   ]
  }
 ],
 "metadata": {
  "kernelspec": {
   "display_name": "Python 3",
   "language": "python",
   "name": "python3"
  },
  "language_info": {
   "codemirror_mode": {
    "name": "ipython",
    "version": 3
   },
   "file_extension": ".py",
   "mimetype": "text/x-python",
   "name": "python",
   "nbconvert_exporter": "python",
   "pygments_lexer": "ipython3",
   "version": "3.8.3"
  }
 },
 "nbformat": 4,
 "nbformat_minor": 4
}
